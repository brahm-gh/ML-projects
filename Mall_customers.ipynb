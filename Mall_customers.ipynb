{
  "nbformat": 4,
  "nbformat_minor": 0,
  "metadata": {
    "colab": {
      "name": "Mall_customers.ipynb",
      "provenance": [],
      "authorship_tag": "ABX9TyPxv73rSUDwsjceqs6fx5Jt",
      "include_colab_link": true
    },
    "kernelspec": {
      "name": "python3",
      "display_name": "Python 3"
    },
    "language_info": {
      "name": "python"
    }
  },
  "cells": [
    {
      "cell_type": "markdown",
      "metadata": {
        "id": "view-in-github",
        "colab_type": "text"
      },
      "source": [
        "<a href=\"https://colab.research.google.com/github/brahm-gh/ML-projects/blob/main/Mall_customers.ipynb\" target=\"_parent\"><img src=\"https://colab.research.google.com/assets/colab-badge.svg\" alt=\"Open In Colab\"/></a>"
      ]
    },
    {
      "cell_type": "markdown",
      "metadata": {
        "id": "0LDtyIj9NVXE"
      },
      "source": [
        "#Mall Customers"
      ]
    },
    {
      "cell_type": "markdown",
      "metadata": {
        "id": "C_pX2JEhd-TA"
      },
      "source": [
        "We will be looking at a dataset from a mall and try to find clusters of customers based on some features to help us identify which category do certain customers should be segmented to. \n",
        "dataset: https://www.kaggle.com/vjchoudhary7/customer-segmentation-tutorial-in-python"
      ]
    },
    {
      "cell_type": "code",
      "metadata": {
        "id": "iLKcqjqGNe2Z"
      },
      "source": [
        "import pandas as pd \n",
        "import numpy as np\n",
        "import matplotlib.pyplot as plt"
      ],
      "execution_count": 2,
      "outputs": []
    },
    {
      "cell_type": "code",
      "metadata": {
        "colab": {
          "base_uri": "https://localhost:8080/",
          "height": 202
        },
        "id": "Ro_1jtCtNrXg",
        "outputId": "32228716-ce05-4717-a2ec-bb1c05807e74"
      },
      "source": [
        "df = pd.read_csv('Mall_Customers.csv')\n",
        "df.head()"
      ],
      "execution_count": 4,
      "outputs": [
        {
          "output_type": "execute_result",
          "data": {
            "text/html": [
              "<div>\n",
              "<style scoped>\n",
              "    .dataframe tbody tr th:only-of-type {\n",
              "        vertical-align: middle;\n",
              "    }\n",
              "\n",
              "    .dataframe tbody tr th {\n",
              "        vertical-align: top;\n",
              "    }\n",
              "\n",
              "    .dataframe thead th {\n",
              "        text-align: right;\n",
              "    }\n",
              "</style>\n",
              "<table border=\"1\" class=\"dataframe\">\n",
              "  <thead>\n",
              "    <tr style=\"text-align: right;\">\n",
              "      <th></th>\n",
              "      <th>CustomerID</th>\n",
              "      <th>Gender</th>\n",
              "      <th>Age</th>\n",
              "      <th>Annual Income (k$)</th>\n",
              "      <th>Spending Score (1-100)</th>\n",
              "    </tr>\n",
              "  </thead>\n",
              "  <tbody>\n",
              "    <tr>\n",
              "      <th>0</th>\n",
              "      <td>1</td>\n",
              "      <td>Male</td>\n",
              "      <td>19</td>\n",
              "      <td>15</td>\n",
              "      <td>39</td>\n",
              "    </tr>\n",
              "    <tr>\n",
              "      <th>1</th>\n",
              "      <td>2</td>\n",
              "      <td>Male</td>\n",
              "      <td>21</td>\n",
              "      <td>15</td>\n",
              "      <td>81</td>\n",
              "    </tr>\n",
              "    <tr>\n",
              "      <th>2</th>\n",
              "      <td>3</td>\n",
              "      <td>Female</td>\n",
              "      <td>20</td>\n",
              "      <td>16</td>\n",
              "      <td>6</td>\n",
              "    </tr>\n",
              "    <tr>\n",
              "      <th>3</th>\n",
              "      <td>4</td>\n",
              "      <td>Female</td>\n",
              "      <td>23</td>\n",
              "      <td>16</td>\n",
              "      <td>77</td>\n",
              "    </tr>\n",
              "    <tr>\n",
              "      <th>4</th>\n",
              "      <td>5</td>\n",
              "      <td>Female</td>\n",
              "      <td>31</td>\n",
              "      <td>17</td>\n",
              "      <td>40</td>\n",
              "    </tr>\n",
              "  </tbody>\n",
              "</table>\n",
              "</div>"
            ],
            "text/plain": [
              "   CustomerID  Gender  Age  Annual Income (k$)  Spending Score (1-100)\n",
              "0           1    Male   19                  15                      39\n",
              "1           2    Male   21                  15                      81\n",
              "2           3  Female   20                  16                       6\n",
              "3           4  Female   23                  16                      77\n",
              "4           5  Female   31                  17                      40"
            ]
          },
          "metadata": {
            "tags": []
          },
          "execution_count": 4
        }
      ]
    },
    {
      "cell_type": "code",
      "metadata": {
        "colab": {
          "base_uri": "https://localhost:8080/"
        },
        "id": "FlyFvNZDN9Mw",
        "outputId": "8d3fc4aa-a6dd-42a8-f005-3ac11fb82da7"
      },
      "source": [
        "df.shape"
      ],
      "execution_count": 5,
      "outputs": [
        {
          "output_type": "execute_result",
          "data": {
            "text/plain": [
              "(200, 5)"
            ]
          },
          "metadata": {
            "tags": []
          },
          "execution_count": 5
        }
      ]
    },
    {
      "cell_type": "code",
      "metadata": {
        "id": "gct2fs4dOIce"
      },
      "source": [
        "X = df.iloc[:, 1:].values"
      ],
      "execution_count": 7,
      "outputs": []
    },
    {
      "cell_type": "code",
      "metadata": {
        "id": "4YHcx7jKOlAM"
      },
      "source": [
        "from sklearn.preprocessing import LabelEncoder\n",
        "le = LabelEncoder()\n",
        "X[:,0] = le.fit_transform(X[:,0])"
      ],
      "execution_count": 8,
      "outputs": []
    },
    {
      "cell_type": "code",
      "metadata": {
        "colab": {
          "base_uri": "https://localhost:8080/"
        },
        "id": "_BU6IVdSPTu0",
        "outputId": "afb30380-b77d-432a-c541-d2030e4a4dfe"
      },
      "source": [
        "print(X[:10,:])"
      ],
      "execution_count": 10,
      "outputs": [
        {
          "output_type": "stream",
          "text": [
            "[[1 19 15 39]\n",
            " [1 21 15 81]\n",
            " [0 20 16 6]\n",
            " [0 23 16 77]\n",
            " [0 31 17 40]\n",
            " [0 22 17 76]\n",
            " [0 35 18 6]\n",
            " [0 23 18 94]\n",
            " [1 64 19 3]\n",
            " [0 30 19 72]]\n"
          ],
          "name": "stdout"
        }
      ]
    },
    {
      "cell_type": "code",
      "metadata": {
        "id": "PXGVAzFEPLuG"
      },
      "source": [
        "from sklearn.preprocessing import StandardScaler\n",
        "sc = StandardScaler()\n",
        "X[:, 1:] = sc.fit_transform(X[:, 1:])"
      ],
      "execution_count": 12,
      "outputs": []
    },
    {
      "cell_type": "code",
      "metadata": {
        "colab": {
          "base_uri": "https://localhost:8080/"
        },
        "id": "cKzEZ0tsP_7I",
        "outputId": "9b8a85f4-7a8f-4246-ddb2-c77c597554c4"
      },
      "source": [
        "print(X[:10, :])"
      ],
      "execution_count": 13,
      "outputs": [
        {
          "output_type": "stream",
          "text": [
            "[[1 -1.4245687900521393 -1.7389991930659485 -0.43480147996914814]\n",
            " [1 -1.2810354107017978 -1.7389991930659485 1.195704069915157]\n",
            " [0 -1.3528021003769686 -1.7008297638941763 -1.7159129834496736]\n",
            " [0 -1.1375020313514563 -1.7008297638941763 1.0404178270690327]\n",
            " [0 -0.5633685139500905 -1.6626603347224038 -0.3959799192576171]\n",
            " [0 -1.209268721026627 -1.6626603347224038 1.0015962663575015]\n",
            " [0 -0.2763017552494075 -1.6244909055506316 -1.7159129834496736]\n",
            " [0 -1.1375020313514563 -1.6244909055506316 1.700384359165061]\n",
            " [1 1.804932245330544 -1.5863214763788591 -1.832377665584267]\n",
            " [0 -0.6351352036252612 -1.5863214763788591 0.8463100235113773]]\n"
          ],
          "name": "stdout"
        }
      ]
    },
    {
      "cell_type": "code",
      "metadata": {
        "colab": {
          "base_uri": "https://localhost:8080/",
          "height": 313
        },
        "id": "mfED0k6wQcDf",
        "outputId": "bd95749b-b571-45e4-bd5d-10669c2fdeb8"
      },
      "source": [
        "from sklearn.cluster import KMeans\n",
        "wcss = []\n",
        "for i in range(1,11):\n",
        "  kmns = KMeans(n_clusters = i, init = 'k-means++')\n",
        "  kmns.fit(X)\n",
        "  wcss.append(kmns.inertia_)\n",
        "plt.plot(range(1,11), wcss)  \n",
        "plt.xlabel('Number of Clusters')\n",
        "plt.ylabel('WCSS')\n",
        "plt.title('The Elbow Method')"
      ],
      "execution_count": 24,
      "outputs": [
        {
          "output_type": "execute_result",
          "data": {
            "text/plain": [
              "Text(0.5, 1.0, 'The Elbow Method')"
            ]
          },
          "metadata": {
            "tags": []
          },
          "execution_count": 24
        },
        {
          "output_type": "display_data",
          "data": {
            "image/png": "[encoded data removed]",
            "text/plain": [
              "<Figure size 432x288 with 1 Axes>"
            ]
          },
          "metadata": {
            "tags": [],
            "needs_background": "light"
          }
        }
      ]
    },
    {
      "cell_type": "code",
      "metadata": {
        "id": "79vboQ9yUDr0"
      },
      "source": [
        "kmn = KMeans(n_clusters = 4, init = 'k-means++')"
      ],
      "execution_count": 40,
      "outputs": []
    },
    {
      "cell_type": "code",
      "metadata": {
        "id": "EcvDjTDbUXEX"
      },
      "source": [
        "kmn_cl = kmn.fit_predict(X)"
      ],
      "execution_count": 41,
      "outputs": []
    },
    {
      "cell_type": "code",
      "metadata": {
        "colab": {
          "base_uri": "https://localhost:8080/"
        },
        "id": "DlebnxXGU0k1",
        "outputId": "1f8145e0-b895-4a34-c86c-33ed1952dce7"
      },
      "source": [
        "print(kmn_cl)"
      ],
      "execution_count": 42,
      "outputs": [
        {
          "output_type": "stream",
          "text": [
            "[0 0 0 0 0 0 1 0 1 0 1 0 1 0 1 0 0 0 1 0 0 0 1 0 1 0 1 0 1 0 1 0 1 0 1 0 1\n",
            " 0 1 0 1 0 1 0 1 0 1 0 0 0 1 0 0 1 1 1 1 1 0 1 1 0 1 1 1 0 1 1 0 0 1 1 1 1\n",
            " 1 0 1 1 0 1 1 0 1 1 0 1 1 0 0 1 1 0 1 1 0 0 1 0 1 0 0 1 1 0 1 0 1 1 1 1 1\n",
            " 0 3 0 0 0 1 1 1 1 0 3 2 2 3 2 3 2 1 2 3 2 3 2 3 2 3 2 3 2 3 2 3 2 3 2 3 2\n",
            " 3 2 3 2 3 2 3 2 3 2 3 2 1 2 3 2 3 2 3 2 3 2 3 2 3 2 3 2 3 2 3 2 3 2 3 2 3\n",
            " 2 3 2 3 2 3 2 3 2 3 2 3 2 3 2]\n"
          ],
          "name": "stdout"
        }
      ]
    },
    {
      "cell_type": "code",
      "metadata": {
        "colab": {
          "base_uri": "https://localhost:8080/",
          "height": 295
        },
        "id": "-PRLZ23NYz5P",
        "outputId": "1eaba0c7-099c-4b0b-d339-f1e7d8c93205"
      },
      "source": [
        "import scipy.cluster.hierarchy as sch\n",
        "dend = sch.dendrogram(sch.linkage(X[:,[-2,-1]], method = 'ward'))\n",
        "plt.title('Dendrogram')\n",
        "plt.xlabel('Customers')\n",
        "plt.ylabel('Distance')\n",
        "plt.show()"
      ],
      "execution_count": 48,
      "outputs": [
        {
          "output_type": "display_data",
          "data": {
            "image/png": "[encoded data removed]",
            "text/plain": [
              "<Figure size 432x288 with 1 Axes>"
            ]
          },
          "metadata": {
            "tags": [],
            "needs_background": "light"
          }
        }
      ]
    },
    {
      "cell_type": "code",
      "metadata": {
        "id": "_aSrxjGodBul"
      },
      "source": [
        "from sklearn.cluster import AgglomerativeClustering\n",
        "ac = AgglomerativeClustering(n_clusters = 5, affinity = 'euclidean', linkage = 'ward')"
      ],
      "execution_count": 49,
      "outputs": []
    },
    {
      "cell_type": "code",
      "metadata": {
        "colab": {
          "base_uri": "https://localhost:8080/"
        },
        "id": "726rCCaHdlvk",
        "outputId": "6626cc7f-f677-456b-9dc4-369fa74893e1"
      },
      "source": [
        "ac_cl = ac.fit_predict(X)\n",
        "print(ac_cl)"
      ],
      "execution_count": 50,
      "outputs": [
        {
          "output_type": "stream",
          "text": [
            "[4 0 4 0 4 0 4 0 4 0 4 0 4 0 4 0 4 0 1 0 4 0 4 0 4 0 4 0 4 0 4 0 4 0 4 0 4\n",
            " 0 4 0 1 0 1 0 4 0 1 0 0 0 1 0 0 1 1 1 1 1 0 1 1 0 1 1 1 0 1 1 0 0 1 1 1 1\n",
            " 1 0 1 1 0 1 1 1 1 1 0 1 1 0 0 1 1 0 1 0 0 0 1 0 1 0 0 1 1 0 1 0 1 1 1 1 1\n",
            " 0 0 0 0 0 1 1 1 1 0 0 0 3 0 3 1 3 2 3 2 3 0 3 2 3 2 3 2 3 2 3 0 3 2 3 1 3\n",
            " 2 3 2 3 2 3 2 3 2 3 2 3 2 3 2 3 2 3 2 3 2 3 2 3 2 3 2 3 2 3 2 3 2 3 2 3 2\n",
            " 3 2 3 2 3 2 3 2 3 2 3 2 3 2 3]\n"
          ],
          "name": "stdout"
        }
      ]
    },
    {
      "cell_type": "code",
      "metadata": {
        "colab": {
          "base_uri": "https://localhost:8080/",
          "height": 295
        },
        "id": "7yD0mpYce7Rk",
        "outputId": "4c078108-dc4b-4d15-ef05-bbc976fd57ed"
      },
      "source": [
        "plt.scatter(X[ac_cl == 0, -2], X[ac_cl == 0, -1],  c = 'red', label = 'Cluster 1')\n",
        "plt.scatter(X[ac_cl == 1, -2], X[ac_cl  == 1, -1],  c = 'blue', label = 'Cluster 2')\n",
        "plt.scatter(X[ac_cl == 2, -2], X[ac_cl == 2, -1],  c = 'green', label = 'Cluster 3')\n",
        "plt.scatter(X[ac_cl == 3, -2], X[ac_cl == 3, -1],  c = 'cyan', label = 'Cluster 4')\n",
        "plt.scatter(X[ac_cl == 4, -2], X[ac_cl == 4, -1], c = 'magenta', label = 'Cluster 5')\n",
        "plt.title('Clusters of customers')\n",
        "plt.xlabel('Annual Income (k$)')\n",
        "plt.ylabel('Spending Score (1-100)')\n",
        "plt.legend()\n",
        "plt.show()"
      ],
      "execution_count": 51,
      "outputs": [
        {
          "output_type": "display_data",
          "data": {
            "image/png": "[encoded data removed]",
            "text/plain": [
              "<Figure size 432x288 with 1 Axes>"
            ]
          },
          "metadata": {
            "tags": [],
            "needs_background": "light"
          }
        }
      ]
    }
  ]
}