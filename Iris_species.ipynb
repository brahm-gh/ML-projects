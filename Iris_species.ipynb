{
  "nbformat": 4,
  "nbformat_minor": 0,
  "metadata": {
    "colab": {
      "name": "Iris_species.ipynb",
      "provenance": [],
      "authorship_tag": "ABX9TyOWOejjJ3/gxmStAl9afb+D",
      "include_colab_link": true
    },
    "kernelspec": {
      "name": "python3",
      "display_name": "Python 3"
    },
    "language_info": {
      "name": "python"
    }
  },
  "cells": [
    {
      "cell_type": "markdown",
      "metadata": {
        "id": "view-in-github",
        "colab_type": "text"
      },
      "source": [
        "<a href=\"https://colab.research.google.com/github/brahm-gh/ML-projects/blob/main/Iris_species.ipynb\" target=\"_parent\"><img src=\"https://colab.research.google.com/assets/colab-badge.svg\" alt=\"Open In Colab\"/></a>"
      ]
    },
    {
      "cell_type": "markdown",
      "metadata": {
        "id": "625Csg_BOiqu"
      },
      "source": [
        "#Iris Species"
      ]
    },
    {
      "cell_type": "markdown",
      "metadata": {
        "id": "K0blqIq8ljPd"
      },
      "source": [
        "I will be using an iris species dataset to classify iris species based on different factors relating to petal and sepal dimensions.\n",
        "dataset: https://www.kaggle.com/uciml/iris?select=Iris.csv"
      ]
    },
    {
      "cell_type": "code",
      "metadata": {
        "id": "vE7tt_iqOpWr"
      },
      "source": [
        "import pandas as pd\n",
        "import numpy as np\n",
        "import matplotlib.pyplot as plt"
      ],
      "execution_count": 197,
      "outputs": []
    },
    {
      "cell_type": "code",
      "metadata": {
        "colab": {
          "base_uri": "https://localhost:8080/",
          "height": 202
        },
        "id": "1RwDlJyIO8RA",
        "outputId": "1a6f97e0-26e2-4985-93aa-844e45e7db43"
      },
      "source": [
        "df = pd.read_csv('Iris.csv')\n",
        "df.head()"
      ],
      "execution_count": 198,
      "outputs": [
        {
          "output_type": "execute_result",
          "data": {
            "text/html": [
              "<div>\n",
              "<style scoped>\n",
              "    .dataframe tbody tr th:only-of-type {\n",
              "        vertical-align: middle;\n",
              "    }\n",
              "\n",
              "    .dataframe tbody tr th {\n",
              "        vertical-align: top;\n",
              "    }\n",
              "\n",
              "    .dataframe thead th {\n",
              "        text-align: right;\n",
              "    }\n",
              "</style>\n",
              "<table border=\"1\" class=\"dataframe\">\n",
              "  <thead>\n",
              "    <tr style=\"text-align: right;\">\n",
              "      <th></th>\n",
              "      <th>Id</th>\n",
              "      <th>SepalLengthCm</th>\n",
              "      <th>SepalWidthCm</th>\n",
              "      <th>PetalLengthCm</th>\n",
              "      <th>PetalWidthCm</th>\n",
              "      <th>Species</th>\n",
              "    </tr>\n",
              "  </thead>\n",
              "  <tbody>\n",
              "    <tr>\n",
              "      <th>0</th>\n",
              "      <td>1</td>\n",
              "      <td>5.1</td>\n",
              "      <td>3.5</td>\n",
              "      <td>1.4</td>\n",
              "      <td>0.2</td>\n",
              "      <td>Iris-setosa</td>\n",
              "    </tr>\n",
              "    <tr>\n",
              "      <th>1</th>\n",
              "      <td>2</td>\n",
              "      <td>4.9</td>\n",
              "      <td>3.0</td>\n",
              "      <td>1.4</td>\n",
              "      <td>0.2</td>\n",
              "      <td>Iris-setosa</td>\n",
              "    </tr>\n",
              "    <tr>\n",
              "      <th>2</th>\n",
              "      <td>3</td>\n",
              "      <td>4.7</td>\n",
              "      <td>3.2</td>\n",
              "      <td>1.3</td>\n",
              "      <td>0.2</td>\n",
              "      <td>Iris-setosa</td>\n",
              "    </tr>\n",
              "    <tr>\n",
              "      <th>3</th>\n",
              "      <td>4</td>\n",
              "      <td>4.6</td>\n",
              "      <td>3.1</td>\n",
              "      <td>1.5</td>\n",
              "      <td>0.2</td>\n",
              "      <td>Iris-setosa</td>\n",
              "    </tr>\n",
              "    <tr>\n",
              "      <th>4</th>\n",
              "      <td>5</td>\n",
              "      <td>5.0</td>\n",
              "      <td>3.6</td>\n",
              "      <td>1.4</td>\n",
              "      <td>0.2</td>\n",
              "      <td>Iris-setosa</td>\n",
              "    </tr>\n",
              "  </tbody>\n",
              "</table>\n",
              "</div>"
            ],
            "text/plain": [
              "   Id  SepalLengthCm  SepalWidthCm  PetalLengthCm  PetalWidthCm      Species\n",
              "0   1            5.1           3.5            1.4           0.2  Iris-setosa\n",
              "1   2            4.9           3.0            1.4           0.2  Iris-setosa\n",
              "2   3            4.7           3.2            1.3           0.2  Iris-setosa\n",
              "3   4            4.6           3.1            1.5           0.2  Iris-setosa\n",
              "4   5            5.0           3.6            1.4           0.2  Iris-setosa"
            ]
          },
          "metadata": {
            "tags": []
          },
          "execution_count": 198
        }
      ]
    },
    {
      "cell_type": "code",
      "metadata": {
        "colab": {
          "base_uri": "https://localhost:8080/"
        },
        "id": "w155GAyLPYtu",
        "outputId": "64fd313d-fa55-4287-8f12-4a5817b26c40"
      },
      "source": [
        "df.Species.unique()"
      ],
      "execution_count": 199,
      "outputs": [
        {
          "output_type": "execute_result",
          "data": {
            "text/plain": [
              "array(['Iris-setosa', 'Iris-versicolor', 'Iris-virginica'], dtype=object)"
            ]
          },
          "metadata": {
            "tags": []
          },
          "execution_count": 199
        }
      ]
    },
    {
      "cell_type": "code",
      "metadata": {
        "id": "q7pUQuBZZ4h9"
      },
      "source": [
        "X_y = df.iloc[:,1:].values"
      ],
      "execution_count": 200,
      "outputs": []
    },
    {
      "cell_type": "code",
      "metadata": {
        "id": "B5Z4ktzKP6v5"
      },
      "source": [
        "from sklearn.preprocessing import LabelEncoder\n",
        "le = LabelEncoder()\n",
        "X_y[:, -1] = le.fit_transform(X_y[:, -1])"
      ],
      "execution_count": 201,
      "outputs": []
    },
    {
      "cell_type": "code",
      "metadata": {
        "colab": {
          "base_uri": "https://localhost:8080/"
        },
        "id": "t1DvSQknWdUN",
        "outputId": "ef3ecaf4-b949-46a0-a4bb-ad569893ffb5"
      },
      "source": [
        "print(X_y)"
      ],
      "execution_count": 202,
      "outputs": [
        {
          "output_type": "stream",
          "text": [
            "[[5.1 3.5 1.4 0.2 0]\n",
            " [4.9 3.0 1.4 0.2 0]\n",
            " [4.7 3.2 1.3 0.2 0]\n",
            " [4.6 3.1 1.5 0.2 0]\n",
            " [5.0 3.6 1.4 0.2 0]\n",
            " [5.4 3.9 1.7 0.4 0]\n",
            " [4.6 3.4 1.4 0.3 0]\n",
            " [5.0 3.4 1.5 0.2 0]\n",
            " [4.4 2.9 1.4 0.2 0]\n",
            " [4.9 3.1 1.5 0.1 0]\n",
            " [5.4 3.7 1.5 0.2 0]\n",
            " [4.8 3.4 1.6 0.2 0]\n",
            " [4.8 3.0 1.4 0.1 0]\n",
            " [4.3 3.0 1.1 0.1 0]\n",
            " [5.8 4.0 1.2 0.2 0]\n",
            " [5.7 4.4 1.5 0.4 0]\n",
            " [5.4 3.9 1.3 0.4 0]\n",
            " [5.1 3.5 1.4 0.3 0]\n",
            " [5.7 3.8 1.7 0.3 0]\n",
            " [5.1 3.8 1.5 0.3 0]\n",
            " [5.4 3.4 1.7 0.2 0]\n",
            " [5.1 3.7 1.5 0.4 0]\n",
            " [4.6 3.6 1.0 0.2 0]\n",
            " [5.1 3.3 1.7 0.5 0]\n",
            " [4.8 3.4 1.9 0.2 0]\n",
            " [5.0 3.0 1.6 0.2 0]\n",
            " [5.0 3.4 1.6 0.4 0]\n",
            " [5.2 3.5 1.5 0.2 0]\n",
            " [5.2 3.4 1.4 0.2 0]\n",
            " [4.7 3.2 1.6 0.2 0]\n",
            " [4.8 3.1 1.6 0.2 0]\n",
            " [5.4 3.4 1.5 0.4 0]\n",
            " [5.2 4.1 1.5 0.1 0]\n",
            " [5.5 4.2 1.4 0.2 0]\n",
            " [4.9 3.1 1.5 0.1 0]\n",
            " [5.0 3.2 1.2 0.2 0]\n",
            " [5.5 3.5 1.3 0.2 0]\n",
            " [4.9 3.1 1.5 0.1 0]\n",
            " [4.4 3.0 1.3 0.2 0]\n",
            " [5.1 3.4 1.5 0.2 0]\n",
            " [5.0 3.5 1.3 0.3 0]\n",
            " [4.5 2.3 1.3 0.3 0]\n",
            " [4.4 3.2 1.3 0.2 0]\n",
            " [5.0 3.5 1.6 0.6 0]\n",
            " [5.1 3.8 1.9 0.4 0]\n",
            " [4.8 3.0 1.4 0.3 0]\n",
            " [5.1 3.8 1.6 0.2 0]\n",
            " [4.6 3.2 1.4 0.2 0]\n",
            " [5.3 3.7 1.5 0.2 0]\n",
            " [5.0 3.3 1.4 0.2 0]\n",
            " [7.0 3.2 4.7 1.4 1]\n",
            " [6.4 3.2 4.5 1.5 1]\n",
            " [6.9 3.1 4.9 1.5 1]\n",
            " [5.5 2.3 4.0 1.3 1]\n",
            " [6.5 2.8 4.6 1.5 1]\n",
            " [5.7 2.8 4.5 1.3 1]\n",
            " [6.3 3.3 4.7 1.6 1]\n",
            " [4.9 2.4 3.3 1.0 1]\n",
            " [6.6 2.9 4.6 1.3 1]\n",
            " [5.2 2.7 3.9 1.4 1]\n",
            " [5.0 2.0 3.5 1.0 1]\n",
            " [5.9 3.0 4.2 1.5 1]\n",
            " [6.0 2.2 4.0 1.0 1]\n",
            " [6.1 2.9 4.7 1.4 1]\n",
            " [5.6 2.9 3.6 1.3 1]\n",
            " [6.7 3.1 4.4 1.4 1]\n",
            " [5.6 3.0 4.5 1.5 1]\n",
            " [5.8 2.7 4.1 1.0 1]\n",
            " [6.2 2.2 4.5 1.5 1]\n",
            " [5.6 2.5 3.9 1.1 1]\n",
            " [5.9 3.2 4.8 1.8 1]\n",
            " [6.1 2.8 4.0 1.3 1]\n",
            " [6.3 2.5 4.9 1.5 1]\n",
            " [6.1 2.8 4.7 1.2 1]\n",
            " [6.4 2.9 4.3 1.3 1]\n",
            " [6.6 3.0 4.4 1.4 1]\n",
            " [6.8 2.8 4.8 1.4 1]\n",
            " [6.7 3.0 5.0 1.7 1]\n",
            " [6.0 2.9 4.5 1.5 1]\n",
            " [5.7 2.6 3.5 1.0 1]\n",
            " [5.5 2.4 3.8 1.1 1]\n",
            " [5.5 2.4 3.7 1.0 1]\n",
            " [5.8 2.7 3.9 1.2 1]\n",
            " [6.0 2.7 5.1 1.6 1]\n",
            " [5.4 3.0 4.5 1.5 1]\n",
            " [6.0 3.4 4.5 1.6 1]\n",
            " [6.7 3.1 4.7 1.5 1]\n",
            " [6.3 2.3 4.4 1.3 1]\n",
            " [5.6 3.0 4.1 1.3 1]\n",
            " [5.5 2.5 4.0 1.3 1]\n",
            " [5.5 2.6 4.4 1.2 1]\n",
            " [6.1 3.0 4.6 1.4 1]\n",
            " [5.8 2.6 4.0 1.2 1]\n",
            " [5.0 2.3 3.3 1.0 1]\n",
            " [5.6 2.7 4.2 1.3 1]\n",
            " [5.7 3.0 4.2 1.2 1]\n",
            " [5.7 2.9 4.2 1.3 1]\n",
            " [6.2 2.9 4.3 1.3 1]\n",
            " [5.1 2.5 3.0 1.1 1]\n",
            " [5.7 2.8 4.1 1.3 1]\n",
            " [6.3 3.3 6.0 2.5 2]\n",
            " [5.8 2.7 5.1 1.9 2]\n",
            " [7.1 3.0 5.9 2.1 2]\n",
            " [6.3 2.9 5.6 1.8 2]\n",
            " [6.5 3.0 5.8 2.2 2]\n",
            " [7.6 3.0 6.6 2.1 2]\n",
            " [4.9 2.5 4.5 1.7 2]\n",
            " [7.3 2.9 6.3 1.8 2]\n",
            " [6.7 2.5 5.8 1.8 2]\n",
            " [7.2 3.6 6.1 2.5 2]\n",
            " [6.5 3.2 5.1 2.0 2]\n",
            " [6.4 2.7 5.3 1.9 2]\n",
            " [6.8 3.0 5.5 2.1 2]\n",
            " [5.7 2.5 5.0 2.0 2]\n",
            " [5.8 2.8 5.1 2.4 2]\n",
            " [6.4 3.2 5.3 2.3 2]\n",
            " [6.5 3.0 5.5 1.8 2]\n",
            " [7.7 3.8 6.7 2.2 2]\n",
            " [7.7 2.6 6.9 2.3 2]\n",
            " [6.0 2.2 5.0 1.5 2]\n",
            " [6.9 3.2 5.7 2.3 2]\n",
            " [5.6 2.8 4.9 2.0 2]\n",
            " [7.7 2.8 6.7 2.0 2]\n",
            " [6.3 2.7 4.9 1.8 2]\n",
            " [6.7 3.3 5.7 2.1 2]\n",
            " [7.2 3.2 6.0 1.8 2]\n",
            " [6.2 2.8 4.8 1.8 2]\n",
            " [6.1 3.0 4.9 1.8 2]\n",
            " [6.4 2.8 5.6 2.1 2]\n",
            " [7.2 3.0 5.8 1.6 2]\n",
            " [7.4 2.8 6.1 1.9 2]\n",
            " [7.9 3.8 6.4 2.0 2]\n",
            " [6.4 2.8 5.6 2.2 2]\n",
            " [6.3 2.8 5.1 1.5 2]\n",
            " [6.1 2.6 5.6 1.4 2]\n",
            " [7.7 3.0 6.1 2.3 2]\n",
            " [6.3 3.4 5.6 2.4 2]\n",
            " [6.4 3.1 5.5 1.8 2]\n",
            " [6.0 3.0 4.8 1.8 2]\n",
            " [6.9 3.1 5.4 2.1 2]\n",
            " [6.7 3.1 5.6 2.4 2]\n",
            " [6.9 3.1 5.1 2.3 2]\n",
            " [5.8 2.7 5.1 1.9 2]\n",
            " [6.8 3.2 5.9 2.3 2]\n",
            " [6.7 3.3 5.7 2.5 2]\n",
            " [6.7 3.0 5.2 2.3 2]\n",
            " [6.3 2.5 5.0 1.9 2]\n",
            " [6.5 3.0 5.2 2.0 2]\n",
            " [6.2 3.4 5.4 2.3 2]\n",
            " [5.9 3.0 5.1 1.8 2]]\n"
          ],
          "name": "stdout"
        }
      ]
    },
    {
      "cell_type": "code",
      "metadata": {
        "id": "YTg2BFdmZBby"
      },
      "source": [
        "X = X_y[:, :-1]\n",
        "y = X_y[:, -1].astype('int')"
      ],
      "execution_count": 203,
      "outputs": []
    },
    {
      "cell_type": "code",
      "metadata": {
        "id": "Kf3lwuyAQdp0"
      },
      "source": [
        "from sklearn.model_selection import train_test_split\n",
        "X_train, X_test, y_train, y_test = train_test_split(X, y, test_size = 0.2, random_state = 0)"
      ],
      "execution_count": 204,
      "outputs": []
    },
    {
      "cell_type": "code",
      "metadata": {
        "colab": {
          "base_uri": "https://localhost:8080/"
        },
        "id": "q1kt_Dg9c23D",
        "outputId": "e059fe77-611c-4362-a7c9-de9d4cf1e0b0"
      },
      "source": [
        "print(X_train)"
      ],
      "execution_count": 205,
      "outputs": [
        {
          "output_type": "stream",
          "text": [
            "[[6.4 3.1 5.5 1.8]\n",
            " [5.4 3.0 4.5 1.5]\n",
            " [5.2 3.5 1.5 0.2]\n",
            " [6.1 3.0 4.9 1.8]\n",
            " [6.4 2.8 5.6 2.2]\n",
            " [5.2 2.7 3.9 1.4]\n",
            " [5.7 3.8 1.7 0.3]\n",
            " [6.0 2.7 5.1 1.6]\n",
            " [5.9 3.0 4.2 1.5]\n",
            " [5.8 2.6 4.0 1.2]\n",
            " [6.8 3.0 5.5 2.1]\n",
            " [4.7 3.2 1.3 0.2]\n",
            " [6.9 3.1 5.1 2.3]\n",
            " [5.0 3.5 1.6 0.6]\n",
            " [5.4 3.7 1.5 0.2]\n",
            " [5.0 2.0 3.5 1.0]\n",
            " [6.5 3.0 5.5 1.8]\n",
            " [6.7 3.3 5.7 2.5]\n",
            " [6.0 2.2 5.0 1.5]\n",
            " [6.7 2.5 5.8 1.8]\n",
            " [5.6 2.5 3.9 1.1]\n",
            " [7.7 3.0 6.1 2.3]\n",
            " [6.3 3.3 4.7 1.6]\n",
            " [5.5 2.4 3.8 1.1]\n",
            " [6.3 2.7 4.9 1.8]\n",
            " [6.3 2.8 5.1 1.5]\n",
            " [4.9 2.5 4.5 1.7]\n",
            " [6.3 2.5 5.0 1.9]\n",
            " [7.0 3.2 4.7 1.4]\n",
            " [6.5 3.0 5.2 2.0]\n",
            " [6.0 3.4 4.5 1.6]\n",
            " [4.8 3.1 1.6 0.2]\n",
            " [5.8 2.7 5.1 1.9]\n",
            " [5.6 2.7 4.2 1.3]\n",
            " [5.6 2.9 3.6 1.3]\n",
            " [5.5 2.5 4.0 1.3]\n",
            " [6.1 3.0 4.6 1.4]\n",
            " [7.2 3.2 6.0 1.8]\n",
            " [5.3 3.7 1.5 0.2]\n",
            " [4.3 3.0 1.1 0.1]\n",
            " [6.4 2.7 5.3 1.9]\n",
            " [5.7 3.0 4.2 1.2]\n",
            " [5.4 3.4 1.7 0.2]\n",
            " [5.7 4.4 1.5 0.4]\n",
            " [6.9 3.1 4.9 1.5]\n",
            " [4.6 3.1 1.5 0.2]\n",
            " [5.9 3.0 5.1 1.8]\n",
            " [5.1 2.5 3.0 1.1]\n",
            " [4.6 3.4 1.4 0.3]\n",
            " [6.2 2.2 4.5 1.5]\n",
            " [7.2 3.6 6.1 2.5]\n",
            " [5.7 2.9 4.2 1.3]\n",
            " [4.8 3.0 1.4 0.1]\n",
            " [7.1 3.0 5.9 2.1]\n",
            " [6.9 3.2 5.7 2.3]\n",
            " [6.5 3.0 5.8 2.2]\n",
            " [6.4 2.8 5.6 2.1]\n",
            " [5.1 3.8 1.6 0.2]\n",
            " [4.8 3.4 1.6 0.2]\n",
            " [6.5 3.2 5.1 2.0]\n",
            " [6.7 3.3 5.7 2.1]\n",
            " [4.5 2.3 1.3 0.3]\n",
            " [6.2 3.4 5.4 2.3]\n",
            " [4.9 3.0 1.4 0.2]\n",
            " [5.7 2.5 5.0 2.0]\n",
            " [6.9 3.1 5.4 2.1]\n",
            " [4.4 3.2 1.3 0.2]\n",
            " [5.0 3.6 1.4 0.2]\n",
            " [7.2 3.0 5.8 1.6]\n",
            " [5.1 3.5 1.4 0.3]\n",
            " [4.4 3.0 1.3 0.2]\n",
            " [5.4 3.9 1.7 0.4]\n",
            " [5.5 2.3 4.0 1.3]\n",
            " [6.8 3.2 5.9 2.3]\n",
            " [7.6 3.0 6.6 2.1]\n",
            " [5.1 3.5 1.4 0.2]\n",
            " [4.9 3.1 1.5 0.1]\n",
            " [5.2 3.4 1.4 0.2]\n",
            " [5.7 2.8 4.5 1.3]\n",
            " [6.6 3.0 4.4 1.4]\n",
            " [5.0 3.2 1.2 0.2]\n",
            " [5.1 3.3 1.7 0.5]\n",
            " [6.4 2.9 4.3 1.3]\n",
            " [5.4 3.4 1.5 0.4]\n",
            " [7.7 2.6 6.9 2.3]\n",
            " [4.9 2.4 3.3 1.0]\n",
            " [7.9 3.8 6.4 2.0]\n",
            " [6.7 3.1 4.4 1.4]\n",
            " [5.2 4.1 1.5 0.1]\n",
            " [6.0 3.0 4.8 1.8]\n",
            " [5.8 4.0 1.2 0.2]\n",
            " [7.7 2.8 6.7 2.0]\n",
            " [5.1 3.8 1.5 0.3]\n",
            " [4.7 3.2 1.6 0.2]\n",
            " [7.4 2.8 6.1 1.9]\n",
            " [5.0 3.3 1.4 0.2]\n",
            " [6.3 3.4 5.6 2.4]\n",
            " [5.7 2.8 4.1 1.3]\n",
            " [5.8 2.7 3.9 1.2]\n",
            " [5.7 2.6 3.5 1.0]\n",
            " [6.4 3.2 5.3 2.3]\n",
            " [6.7 3.0 5.2 2.3]\n",
            " [6.3 2.5 4.9 1.5]\n",
            " [6.7 3.0 5.0 1.7]\n",
            " [5.0 3.0 1.6 0.2]\n",
            " [5.5 2.4 3.7 1.0]\n",
            " [6.7 3.1 5.6 2.4]\n",
            " [5.8 2.7 5.1 1.9]\n",
            " [5.1 3.4 1.5 0.2]\n",
            " [6.6 2.9 4.6 1.3]\n",
            " [5.6 3.0 4.1 1.3]\n",
            " [5.9 3.2 4.8 1.8]\n",
            " [6.3 2.3 4.4 1.3]\n",
            " [5.5 3.5 1.3 0.2]\n",
            " [5.1 3.7 1.5 0.4]\n",
            " [4.9 3.1 1.5 0.1]\n",
            " [6.3 2.9 5.6 1.8]\n",
            " [5.8 2.7 4.1 1.0]\n",
            " [7.7 3.8 6.7 2.2]\n",
            " [4.6 3.2 1.4 0.2]]\n"
          ],
          "name": "stdout"
        }
      ]
    },
    {
      "cell_type": "code",
      "metadata": {
        "colab": {
          "base_uri": "https://localhost:8080/"
        },
        "id": "GZLql7rJR4C1",
        "outputId": "2594ada8-7694-4c97-b853-6f4344d985c4"
      },
      "source": [
        "print(y_train)"
      ],
      "execution_count": 206,
      "outputs": [
        {
          "output_type": "stream",
          "text": [
            "[2 1 0 2 2 1 0 1 1 1 2 0 2 0 0 1 2 2 2 2 1 2 1 1 2 2 2 2 1 2 1 0 2 1 1 1 1\n",
            " 2 0 0 2 1 0 0 1 0 2 1 0 1 2 1 0 2 2 2 2 0 0 2 2 0 2 0 2 2 0 0 2 0 0 0 1 2\n",
            " 2 0 0 0 1 1 0 0 1 0 2 1 2 1 0 2 0 2 0 0 2 0 2 1 1 1 2 2 1 1 0 1 2 2 0 1 1\n",
            " 1 1 0 0 0 2 1 2 0]\n"
          ],
          "name": "stdout"
        }
      ]
    },
    {
      "cell_type": "code",
      "metadata": {
        "colab": {
          "base_uri": "https://localhost:8080/"
        },
        "id": "WM6k9-4Nbl77",
        "outputId": "8f47cee2-dd96-46c3-c96d-569046c71c40"
      },
      "source": [
        "from sklearn.neighbors import KNeighborsClassifier\n",
        "lr = KNeighborsClassifier(n_neighbors = 5, metric = 'minkowski', p = 2)\n",
        "lr.fit(X_train, y_train)"
      ],
      "execution_count": 207,
      "outputs": [
        {
          "output_type": "execute_result",
          "data": {
            "text/plain": [
              "KNeighborsClassifier(algorithm='auto', leaf_size=30, metric='minkowski',\n",
              "                     metric_params=None, n_jobs=None, n_neighbors=5, p=2,\n",
              "                     weights='uniform')"
            ]
          },
          "metadata": {
            "tags": []
          },
          "execution_count": 207
        }
      ]
    },
    {
      "cell_type": "code",
      "metadata": {
        "id": "btRZN-kVvVwd"
      },
      "source": [
        "knn_pred = lr.predict(X_test)"
      ],
      "execution_count": 208,
      "outputs": []
    },
    {
      "cell_type": "code",
      "metadata": {
        "colab": {
          "base_uri": "https://localhost:8080/"
        },
        "id": "DeQzW6S4dQmS",
        "outputId": "70e46d64-2348-472c-b9ce-829db1b73325"
      },
      "source": [
        "from sklearn.metrics import confusion_matrix, accuracy_score\n",
        "print(confusion_matrix(knn_pred, y_test))\n",
        "accuracy_score(knn_pred, y_test)"
      ],
      "execution_count": 209,
      "outputs": [
        {
          "output_type": "stream",
          "text": [
            "[[11  0  0]\n",
            " [ 0 12  0]\n",
            " [ 0  1  6]]\n"
          ],
          "name": "stdout"
        },
        {
          "output_type": "execute_result",
          "data": {
            "text/plain": [
              "0.9666666666666667"
            ]
          },
          "metadata": {
            "tags": []
          },
          "execution_count": 209
        }
      ]
    },
    {
      "cell_type": "code",
      "metadata": {
        "colab": {
          "base_uri": "https://localhost:8080/"
        },
        "id": "jZWlyKJ2wDvh",
        "outputId": "17d6c63e-ddb9-4706-eeac-d09e38dbafad"
      },
      "source": [
        "print(y_test)\n",
        "print(knn_pred)"
      ],
      "execution_count": 210,
      "outputs": [
        {
          "output_type": "stream",
          "text": [
            "[2 1 0 2 0 2 0 1 1 1 2 1 1 1 1 0 1 1 0 0 2 1 0 0 2 0 0 1 1 0]\n",
            "[2 1 0 2 0 2 0 1 1 1 2 1 1 1 2 0 1 1 0 0 2 1 0 0 2 0 0 1 1 0]\n"
          ],
          "name": "stdout"
        }
      ]
    },
    {
      "cell_type": "code",
      "metadata": {
        "colab": {
          "base_uri": "https://localhost:8080/"
        },
        "id": "luo3fPODxvey",
        "outputId": "4cd4e8f8-1c34-4458-82a1-2310ea65b1c1"
      },
      "source": [
        "from sklearn.svm import SVC\n",
        "svc = SVC(kernel = 'rbf')\n",
        "svc.fit(X_train, y_train)"
      ],
      "execution_count": 211,
      "outputs": [
        {
          "output_type": "execute_result",
          "data": {
            "text/plain": [
              "SVC(C=1.0, break_ties=False, cache_size=200, class_weight=None, coef0=0.0,\n",
              "    decision_function_shape='ovr', degree=3, gamma='scale', kernel='rbf',\n",
              "    max_iter=-1, probability=False, random_state=None, shrinking=True,\n",
              "    tol=0.001, verbose=False)"
            ]
          },
          "metadata": {
            "tags": []
          },
          "execution_count": 211
        }
      ]
    },
    {
      "cell_type": "code",
      "metadata": {
        "colab": {
          "base_uri": "https://localhost:8080/"
        },
        "id": "GWnW6lB4zF6p",
        "outputId": "b5d4614d-2ce0-4220-dd26-fbf7f6bd6077"
      },
      "source": [
        "svc_pred = svc.predict(X_test)\n",
        "print(confusion_matrix(svc_pred, y_test))\n",
        "accuracy_score(svc_pred, y_test)"
      ],
      "execution_count": 212,
      "outputs": [
        {
          "output_type": "stream",
          "text": [
            "[[11  0  0]\n",
            " [ 0 13  0]\n",
            " [ 0  0  6]]\n"
          ],
          "name": "stdout"
        },
        {
          "output_type": "execute_result",
          "data": {
            "text/plain": [
              "1.0"
            ]
          },
          "metadata": {
            "tags": []
          },
          "execution_count": 212
        }
      ]
    },
    {
      "cell_type": "code",
      "metadata": {
        "colab": {
          "base_uri": "https://localhost:8080/"
        },
        "id": "GfEsbJ380V9t",
        "outputId": "8384f760-1cd5-4381-ac8e-64046eddd984"
      },
      "source": [
        "print(y_test)\n",
        "print(svc_pred)"
      ],
      "execution_count": 213,
      "outputs": [
        {
          "output_type": "stream",
          "text": [
            "[2 1 0 2 0 2 0 1 1 1 2 1 1 1 1 0 1 1 0 0 2 1 0 0 2 0 0 1 1 0]\n",
            "[2 1 0 2 0 2 0 1 1 1 2 1 1 1 1 0 1 1 0 0 2 1 0 0 2 0 0 1 1 0]\n"
          ],
          "name": "stdout"
        }
      ]
    },
    {
      "cell_type": "code",
      "metadata": {
        "colab": {
          "base_uri": "https://localhost:8080/"
        },
        "id": "bHfZpNOS0fYt",
        "outputId": "7d1e2414-88c9-49f4-8e37-abcf7d061a13"
      },
      "source": [
        "from sklearn.naive_bayes import GaussianNB\n",
        "nbc = GaussianNB()\n",
        "nbc.fit(X_train, y_train)"
      ],
      "execution_count": 214,
      "outputs": [
        {
          "output_type": "execute_result",
          "data": {
            "text/plain": [
              "GaussianNB(priors=None, var_smoothing=1e-09)"
            ]
          },
          "metadata": {
            "tags": []
          },
          "execution_count": 214
        }
      ]
    },
    {
      "cell_type": "code",
      "metadata": {
        "colab": {
          "base_uri": "https://localhost:8080/"
        },
        "id": "E1Pr6Fd_2RRf",
        "outputId": "91cfd96f-6d20-4c95-93eb-48cc241cc4fe"
      },
      "source": [
        "nbc_pred = nbc.predict(X_test)\n",
        "print(confusion_matrix(nbc_pred, y_test))\n",
        "accuracy_score(nbc_pred, y_test)"
      ],
      "execution_count": 215,
      "outputs": [
        {
          "output_type": "stream",
          "text": [
            "[[11  0  0]\n",
            " [ 0 13  1]\n",
            " [ 0  0  5]]\n"
          ],
          "name": "stdout"
        },
        {
          "output_type": "execute_result",
          "data": {
            "text/plain": [
              "0.9666666666666667"
            ]
          },
          "metadata": {
            "tags": []
          },
          "execution_count": 215
        }
      ]
    },
    {
      "cell_type": "code",
      "metadata": {
        "colab": {
          "base_uri": "https://localhost:8080/"
        },
        "id": "OAJC0CbT2wZX",
        "outputId": "d1bc75db-fa5d-4401-8cc0-e7b39da1802e"
      },
      "source": [
        "from sklearn.tree import DecisionTreeClassifier\n",
        "dtc = DecisionTreeClassifier(criterion = 'entropy')\n",
        "dtc.fit(X_train, y_train)"
      ],
      "execution_count": 216,
      "outputs": [
        {
          "output_type": "execute_result",
          "data": {
            "text/plain": [
              "DecisionTreeClassifier(ccp_alpha=0.0, class_weight=None, criterion='entropy',\n",
              "                       max_depth=None, max_features=None, max_leaf_nodes=None,\n",
              "                       min_impurity_decrease=0.0, min_impurity_split=None,\n",
              "                       min_samples_leaf=1, min_samples_split=2,\n",
              "                       min_weight_fraction_leaf=0.0, presort='deprecated',\n",
              "                       random_state=None, splitter='best')"
            ]
          },
          "metadata": {
            "tags": []
          },
          "execution_count": 216
        }
      ]
    },
    {
      "cell_type": "code",
      "metadata": {
        "colab": {
          "base_uri": "https://localhost:8080/"
        },
        "id": "lKTJTMcu3G1V",
        "outputId": "155b5470-9be5-4ba8-8669-569ac2e231de"
      },
      "source": [
        "dtc_pred = dtc.predict(X_test)\n",
        "print(confusion_matrix(dtc_pred, y_test))\n",
        "accuracy_score(dtc_pred, y_test)"
      ],
      "execution_count": 217,
      "outputs": [
        {
          "output_type": "stream",
          "text": [
            "[[11  0  0]\n",
            " [ 0 13  0]\n",
            " [ 0  0  6]]\n"
          ],
          "name": "stdout"
        },
        {
          "output_type": "execute_result",
          "data": {
            "text/plain": [
              "1.0"
            ]
          },
          "metadata": {
            "tags": []
          },
          "execution_count": 217
        }
      ]
    },
    {
      "cell_type": "code",
      "metadata": {
        "colab": {
          "base_uri": "https://localhost:8080/"
        },
        "id": "PEPGebP63fp1",
        "outputId": "3aad0906-19d5-48c2-918b-b685e2b62304"
      },
      "source": [
        "from sklearn.ensemble import RandomForestClassifier\n",
        "rfc = RandomForestClassifier(n_estimators = 10, criterion = 'entropy')\n",
        "rfc.fit(X_train, y_train)"
      ],
      "execution_count": 218,
      "outputs": [
        {
          "output_type": "execute_result",
          "data": {
            "text/plain": [
              "RandomForestClassifier(bootstrap=True, ccp_alpha=0.0, class_weight=None,\n",
              "                       criterion='entropy', max_depth=None, max_features='auto',\n",
              "                       max_leaf_nodes=None, max_samples=None,\n",
              "                       min_impurity_decrease=0.0, min_impurity_split=None,\n",
              "                       min_samples_leaf=1, min_samples_split=2,\n",
              "                       min_weight_fraction_leaf=0.0, n_estimators=10,\n",
              "                       n_jobs=None, oob_score=False, random_state=None,\n",
              "                       verbose=0, warm_start=False)"
            ]
          },
          "metadata": {
            "tags": []
          },
          "execution_count": 218
        }
      ]
    },
    {
      "cell_type": "code",
      "metadata": {
        "colab": {
          "base_uri": "https://localhost:8080/"
        },
        "id": "B-1Z3XlQ4O5i",
        "outputId": "27e12bdb-f1a8-4eda-b44a-ab0a049eac73"
      },
      "source": [
        "rfc_pred = rfc.predict(X_test)\n",
        "print(confusion_matrix(rfc_pred, y_test))\n",
        "accuracy_score(rfc_pred, y_test)"
      ],
      "execution_count": 219,
      "outputs": [
        {
          "output_type": "stream",
          "text": [
            "[[11  0  0]\n",
            " [ 0 13  0]\n",
            " [ 0  0  6]]\n"
          ],
          "name": "stdout"
        },
        {
          "output_type": "execute_result",
          "data": {
            "text/plain": [
              "1.0"
            ]
          },
          "metadata": {
            "tags": []
          },
          "execution_count": 219
        }
      ]
    },
    {
      "cell_type": "markdown",
      "metadata": {
        "id": "rojgLQcm5FwF"
      },
      "source": [
        "###Conclusion \n",
        "######Both models, support vector classifier and decision tree classifier have perfect prediction accuracy score of 1.0"
      ]
    }
  ]
}